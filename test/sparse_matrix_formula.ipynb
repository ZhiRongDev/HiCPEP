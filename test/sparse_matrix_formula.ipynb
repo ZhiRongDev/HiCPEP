{
 "cells": [
  {
   "cell_type": "code",
   "execution_count": 26,
   "metadata": {},
   "outputs": [],
   "source": [
    "import numpy as np\n",
    "import pandas as pd\n",
    "\n",
    "def generate_oe_matrix(length:int, variance_threshold_L:int = 0.85, variance_threshold_U:int = 1):\n",
    "    \"\"\"\n",
    "        Generates a random 5x5 symmetric matrix with positive values and\n",
    "        the first PC explaining at least L% and at most U% of the variance.\n",
    "    \"\"\"\n",
    "\n",
    "    while True:\n",
    "        # Create a nxn array with random positive values\n",
    "        matrix = np.abs(np.random.randn(length, length) * 10)  # Use absolute values for positive entries\n",
    "        # Make the array symmetric\n",
    "        matrix = matrix + matrix.T\n",
    "        origin_matrix = matrix.copy()\n",
    "\n",
    "        # Subtract the mean of each row to center the data (For PCA)\n",
    "        matrix = matrix - matrix.mean(axis=1, keepdims=True)\n",
    "\n",
    "        # SVD \n",
    "        n = len(matrix[0])\n",
    "        y = matrix.T / np.sqrt(n)\n",
    "        U, S, Vh = np.linalg.svd(y, full_matrices=True)\n",
    "        eigenvalues = S * S\n",
    "        EV1_explained_variance = eigenvalues[0] / np.sum(eigenvalues) \n",
    "\n",
    "        # Check if the first PC explains at least the desired variance\n",
    "        if EV1_explained_variance >= variance_threshold_L and EV1_explained_variance < variance_threshold_U:\n",
    "            return origin_matrix\n",
    "\n",
    "length = 5\n",
    "# Generate a simulated O/E matrix.\n",
    "X = generate_oe_matrix(length=length)"
   ]
  },
  {
   "cell_type": "code",
   "execution_count": 27,
   "metadata": {},
   "outputs": [
    {
     "name": "stdout",
     "output_type": "stream",
     "text": [
      "[[ 1.          0.8021262   0.91027317 -0.17734132  0.32648384]\n",
      " [ 0.8021262   1.          0.92757635 -0.64030644  0.82358859]\n",
      " [ 0.91027317  0.92757635  1.         -0.56572872  0.58638778]\n",
      " [-0.17734132 -0.64030644 -0.56572872  1.         -0.79990698]\n",
      " [ 0.32648384  0.82358859  0.58638778 -0.79990698  1.        ]] \n",
      "\n",
      "[[ 1.          0.8021262   0.91027317 -0.17734132  0.32648384]\n",
      " [ 0.8021262   1.          0.92757635 -0.64030644  0.82358859]\n",
      " [ 0.91027317  0.92757635  1.         -0.56572872  0.58638778]\n",
      " [-0.17734132 -0.64030644 -0.56572872  1.         -0.79990698]\n",
      " [ 0.32648384  0.82358859  0.58638778 -0.79990698  1.        ]] \n",
      "\n",
      "[[1022.91747009  505.35013879  325.63832357  147.55090493  269.18422034]\n",
      " [ 505.35013879  249.65725021  160.87453467   72.89431696  132.98461224]\n",
      " [ 325.63832357  160.87453467  103.66458769   46.97175552   85.69283525]\n",
      " [ 147.55090493   72.89431696   46.97175552   21.28350545   38.82852377]\n",
      " [ 269.18422034  132.98461224   85.69283525   38.82852377   70.83674548]]\n"
     ]
    }
   ],
   "source": [
    "d = len(X)\n",
    "I = np.array([1 for i in range(d)])\n",
    "std = np.std(X, axis=1)\n",
    "C = X.mean(axis=1, keepdims=True).flatten()\n",
    "\n",
    "corr = ((X - np.outer(C, I)) @ (X - np.outer(C, I)).T) / (d * np.outer(std, std))\n",
    "\n",
    "print(corr, '\\n')\n",
    "print(np.corrcoef(X), '\\n')\n",
    "\n",
    "print(d * np.outer(std, std))"
   ]
  },
  {
   "cell_type": "code",
   "execution_count": 28,
   "metadata": {},
   "outputs": [
    {
     "data": {
      "text/plain": [
       "array([0.81649658, 0.81649658, 0.81649658])"
      ]
     },
     "execution_count": 28,
     "metadata": {},
     "output_type": "execute_result"
    }
   ],
   "source": [
    "import numpy as np\n",
    "a = np.array([\n",
    "    [1, 2, 3],\n",
    "    [1, 2, 3],\n",
    "    [1, 2, 3],\n",
    "])\n",
    "\n",
    "np.std(a, axis=1)"
   ]
  },
  {
   "cell_type": "code",
   "execution_count": 29,
   "metadata": {},
   "outputs": [
    {
     "data": {
      "text/plain": [
       "0.816496580927726"
      ]
     },
     "execution_count": 29,
     "metadata": {},
     "output_type": "execute_result"
    }
   ],
   "source": [
    "np.power(2/3, 1/2)"
   ]
  },
  {
   "cell_type": "code",
   "execution_count": null,
   "metadata": {},
   "outputs": [],
   "source": []
  },
  {
   "cell_type": "code",
   "execution_count": 30,
   "metadata": {},
   "outputs": [
    {
     "name": "stdout",
     "output_type": "stream",
     "text": [
      "[[1.         0.77962369]\n",
      " [0.77962369 1.        ]]\n"
     ]
    },
    {
     "data": {
      "text/plain": [
       "[<matplotlib.lines.Line2D at 0x7ad1740b8990>]"
      ]
     },
     "execution_count": 30,
     "metadata": {},
     "output_type": "execute_result"
    },
    {
     "data": {
      "image/png": "[encoded data removed]",
      "text/plain": [
       "<Figure size 640x480 with 1 Axes>"
      ]
     },
     "metadata": {},
     "output_type": "display_data"
    }
   ],
   "source": [
    "import numpy as np\n",
    "from matplotlib import pyplot as plt\n",
    "\n",
    "a = np.array([-1.22, -0.12, -0.3])\n",
    "b = np.array([1, 2, 3])\n",
    "\n",
    "print(np.corrcoef(a, b))\n",
    "plt.plot(a, b)"
   ]
  },
  {
   "cell_type": "code",
   "execution_count": 31,
   "metadata": {},
   "outputs": [
    {
     "data": {
      "text/plain": [
       "-0.49976675337386894"
      ]
     },
     "execution_count": 31,
     "metadata": {},
     "output_type": "execute_result"
    }
   ],
   "source": [
    "from numpy import dot\n",
    "from numpy.linalg import norm\n",
    "\n",
    "cos_sim = dot(a, b)/(norm(a)*norm(b))\n",
    "cos_sim"
   ]
  }
 ],
 "metadata": {
  "kernelspec": {
   "display_name": "base",
   "language": "python",
   "name": "python3"
  },
  "language_info": {
   "codemirror_mode": {
    "name": "ipython",
    "version": 3
   },
   "file_extension": ".py",
   "mimetype": "text/x-python",
   "name": "python",
   "nbconvert_exporter": "python",
   "pygments_lexer": "ipython3",
   "version": "3.11.5"
  }
 },
 "nbformat": 4,
 "nbformat_minor": 2
}
