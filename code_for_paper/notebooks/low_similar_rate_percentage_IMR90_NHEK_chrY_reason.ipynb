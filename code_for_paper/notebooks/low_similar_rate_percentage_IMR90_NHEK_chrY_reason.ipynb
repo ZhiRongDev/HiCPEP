{
 "cells": [
  {
   "cell_type": "markdown",
   "metadata": {},
   "source": [
    "In this notebook we explain the reason why the similar_rate_over90, similar_rate_over95, similar_rate_over99 of IMR90, NHEK in  `GSE63525_summary_similar_rate_percentage_table` is nearly zero.\n",
    "\n",
    "Note that we found the `similar_rate` of the Juicer-created PC1 versus the Sklearn-calculated PC1 (Using Juicer-created Pearson as input) is only about 0.78 for IMR90 chrY, and only about 0.85 for nhek chrY. That is the reason why the \"similar_rate_over90\", \"similar_rate_over95\", \"\"similar_rate_over99\" is quite low (We use the Juicer-created PC1 as ground truth, actually the Sklearn-calculated PC1 is highly similar to most of the columns in the covariance matrix)."
   ]
  },
  {
   "cell_type": "code",
   "execution_count": 1,
   "metadata": {},
   "outputs": [],
   "source": [
    "import numpy as np\n",
    "from numpy import dot\n",
    "from numpy.linalg import norm\n",
    "import pandas as pd\n",
    "from sklearn.decomposition import PCA\n",
    "from hicpep import peptools\n",
    "\n",
    "def flip_tracks(track1_np: np.ndarray, track2_np: np.ndarray):\n",
    "    if len(track1_np) != len(track2_np):\n",
    "        print(\"The length of track1_np is different with track2_np\")\n",
    "        print(f\"Length of track1_np: {len(track1_np)}\")\n",
    "        print(f\"Length of track2_np: {len(track2_np)}\")\n",
    "\n",
    "    a = track1_np[~np.isnan(track1_np)]\n",
    "    b = track2_np[~np.isnan(track2_np)]\n",
    "    cos_sim = dot(a, b) / (norm(a) * norm(b))\n",
    "\n",
    "    if cos_sim < 0:\n",
    "        track2_np = -track2_np\n",
    "\n",
    "    return track1_np, track2_np"
   ]
  },
  {
   "cell_type": "code",
   "execution_count": 2,
   "metadata": {},
   "outputs": [
    {
     "name": "stdout",
     "output_type": "stream",
     "text": [
      "Explained variance ratio for the top 3 PC in IMR90 chrY\n",
      "[0.97955514 0.00423985 0.00384376] \n",
      "\n",
      "The similarity between Sklean calculated PC1 verses the Juicer created PC1 is only about 0.78\n",
      "{'total_entry_num': 594, 'valid_entry_num': 82, 'similar_num': 64, 'similar_rate': 0.7804878048780488}\n"
     ]
    }
   ],
   "source": [
    "pearson = \"/media/jordan990301/Samsung_T5/HiC_Datasets/data_for_hicpep/data_store/data/rao_2014/juicer_outputs/imr90/100000/pearsons/pearson_chrY.txt\"\n",
    "pearson_df = pd.read_table(pearson, header=None, sep=\"\\s+\")\n",
    "pearson_np = pearson_df.values # Turn into numpy.ndarray\n",
    "pearson_np = pearson_np.astype('float64')\n",
    "diag = np.diag(pearson_np)\n",
    "diag_valid = ~np.isnan(diag)\n",
    "ixgrid = np.ix_(diag_valid, diag_valid) # Record the position of the valid sub-matrix.\n",
    "pearson_np = pearson_np[ixgrid]\n",
    "\n",
    "pca = PCA(n_components=3)\n",
    "pca.fit(pearson_np)\n",
    "print(f\"Explained variance ratio for the top 3 PC in IMR90 chrY\")\n",
    "print(pca.explained_variance_ratio_, '\\n')\n",
    "sklearn_pc1_np = pca.components_[0]\n",
    "\n",
    "# Full back the origin NaN value\n",
    "tmp = np.full(len(diag_valid), np.nan) \n",
    "tmp[diag_valid] = sklearn_pc1_np\n",
    "sklearn_pc1_np = tmp\n",
    "\n",
    "pc1 = f\"/media/jordan990301/Samsung_T5/HiC_Datasets/data_for_hicpep/data_store/data/rao_2014/juicer_outputs/imr90/100000/eigenvector/pc1_chrY.txt\"\n",
    "pc1_df = pd.read_table(pc1, header=None)\n",
    "pc1_np = pc1_df.values # Turn into numpy format\n",
    "pc1_np = pc1_np.flatten() # Turn into 1D vector\n",
    "\n",
    "sklearn_pc1_np, pc1_np = flip_tracks(sklearn_pc1_np, pc1_np)\n",
    "\n",
    "print(\"The similarity between Sklean calculated PC1 verses the Juicer created PC1 is only about 0.78\")\n",
    "print(peptools.calc_similarity(sklearn_pc1_np, pc1_np))"
   ]
  },
  {
   "cell_type": "code",
   "execution_count": 3,
   "metadata": {},
   "outputs": [
    {
     "name": "stdout",
     "output_type": "stream",
     "text": [
      "For IMR90 ChrY using Sklearn-created PC1_np as ground Truth\n",
      "similar_rates_over90 = 1.0\n",
      "similar_rates_over95 = 1.0\n",
      "similar_rates_over99 = 0.9634146341463414\n"
     ]
    }
   ],
   "source": [
    "cov_np = np.cov(pearson_np, bias=True)\n",
    "similar_rates_over90_count = 0\n",
    "similar_rates_over95_count = 0\n",
    "similar_rates_over99_count = 0\n",
    "\n",
    "for i in range(len(cov_np[0])):\n",
    "    est_np = np.full(len(diag_valid), np.nan)\n",
    "    est_np[diag_valid] = cov_np[i]\n",
    "\n",
    "    sklearn_pc1_np, est_np = flip_tracks(sklearn_pc1_np, est_np)\n",
    "    similar_info = peptools.calc_similarity(track1_np=sklearn_pc1_np, track2_np=est_np)\n",
    "\n",
    "    if similar_info[\"similar_rate\"] >= float(0.9):\n",
    "        similar_rates_over90_count += 1\n",
    "    \n",
    "    if similar_info[\"similar_rate\"] >= float(0.95):\n",
    "        similar_rates_over95_count += 1\n",
    "\n",
    "    if similar_info[\"similar_rate\"] >= float(0.99):\n",
    "        similar_rates_over99_count += 1\n",
    "    \n",
    "similar_rates_over90 = float(similar_rates_over90_count / len(cov_np[0]))\n",
    "similar_rates_over95 = float(similar_rates_over95_count / len(cov_np[0]))\n",
    "similar_rates_over99 = float(similar_rates_over99_count / len(cov_np[0]))\n",
    "\n",
    "print(\"For IMR90 ChrY using Sklearn-created PC1_np as ground Truth\")\n",
    "print(f\"similar_rates_over90 = {similar_rates_over90}\")\n",
    "print(f\"similar_rates_over95 = {similar_rates_over95}\")\n",
    "print(f\"similar_rates_over99 = {similar_rates_over99}\")\n"
   ]
  },
  {
   "cell_type": "code",
   "execution_count": 4,
   "metadata": {},
   "outputs": [
    {
     "name": "stdout",
     "output_type": "stream",
     "text": [
      "Explained variance ratio for the top 3 PC in NHEK chrY\n",
      "[0.98469243 0.00588189 0.00207806] \n",
      "\n",
      "The similarity between Sklean calculated PC1 verses the Juicer created PC1 is only about 0.85\n",
      "{'total_entry_num': 594, 'valid_entry_num': 63, 'similar_num': 54, 'similar_rate': 0.8571428571428571}\n"
     ]
    }
   ],
   "source": [
    "pearson = \"/media/jordan990301/Samsung_T5/HiC_Datasets/data_for_hicpep/data_store/data/rao_2014/juicer_outputs/nhek/100000/pearsons/pearson_chrY.txt\"\n",
    "pearson_df = pd.read_table(pearson, header=None, sep=\"\\s+\")\n",
    "pearson_np = pearson_df.values # Turn into numpy.ndarray\n",
    "pearson_np = pearson_np.astype('float64')\n",
    "diag = np.diag(pearson_np)\n",
    "diag_valid = ~np.isnan(diag)\n",
    "ixgrid = np.ix_(diag_valid, diag_valid) # Record the position of the valid sub-matrix.\n",
    "pearson_np = pearson_np[ixgrid]\n",
    "\n",
    "pca = PCA(n_components=3)\n",
    "pca.fit(pearson_np)\n",
    "print(f\"Explained variance ratio for the top 3 PC in NHEK chrY\")\n",
    "print(pca.explained_variance_ratio_, '\\n')\n",
    "sklearn_pc1_np = pca.components_[0]\n",
    "\n",
    "# Full back the origin NaN value\n",
    "tmp = np.full(len(diag_valid), np.nan) \n",
    "tmp[diag_valid] = sklearn_pc1_np\n",
    "sklearn_pc1_np = tmp\n",
    "\n",
    "pc1 = f\"/media/jordan990301/Samsung_T5/HiC_Datasets/data_for_hicpep/data_store/data/rao_2014/juicer_outputs/nhek/100000/eigenvector/pc1_chrY.txt\"\n",
    "pc1_df = pd.read_table(pc1, header=None)\n",
    "pc1_np = pc1_df.values # Turn into numpy format\n",
    "pc1_np = pc1_np.flatten() # Turn into 1D vector\n",
    "\n",
    "sklearn_pc1_np, pc1_np = flip_tracks(sklearn_pc1_np, pc1_np)\n",
    "\n",
    "print(\"The similarity between Sklean calculated PC1 verses the Juicer created PC1 is only about 0.85\")\n",
    "print(peptools.calc_similarity(sklearn_pc1_np, pc1_np))"
   ]
  },
  {
   "cell_type": "code",
   "execution_count": 5,
   "metadata": {},
   "outputs": [
    {
     "name": "stdout",
     "output_type": "stream",
     "text": [
      "For NHEK ChrY using Sklearn-created PC1_np as ground Truth\n",
      "similar_rates_over90 = 1.0\n",
      "similar_rates_over95 = 0.9682539682539683\n",
      "similar_rates_over99 = 0.9047619047619048\n"
     ]
    }
   ],
   "source": [
    "cov_np = np.cov(pearson_np, bias=True)\n",
    "similar_rates_over90_count = 0\n",
    "similar_rates_over95_count = 0\n",
    "similar_rates_over99_count = 0\n",
    "\n",
    "for i in range(len(cov_np[0])):\n",
    "    est_np = np.full(len(diag_valid), np.nan)\n",
    "    est_np[diag_valid] = cov_np[i]\n",
    "\n",
    "    sklearn_pc1_np, est_np = flip_tracks(sklearn_pc1_np, est_np)\n",
    "    similar_info = peptools.calc_similarity(track1_np=sklearn_pc1_np, track2_np=est_np)\n",
    "\n",
    "    if similar_info[\"similar_rate\"] >= float(0.9):\n",
    "        similar_rates_over90_count += 1\n",
    "    \n",
    "    if similar_info[\"similar_rate\"] >= float(0.95):\n",
    "        similar_rates_over95_count += 1\n",
    "\n",
    "    if similar_info[\"similar_rate\"] >= float(0.99):\n",
    "        similar_rates_over99_count += 1\n",
    "    \n",
    "similar_rates_over90 = float(similar_rates_over90_count / len(cov_np[0]))\n",
    "similar_rates_over95 = float(similar_rates_over95_count / len(cov_np[0]))\n",
    "similar_rates_over99 = float(similar_rates_over99_count / len(cov_np[0]))\n",
    "\n",
    "print(\"For NHEK ChrY using Sklearn-created PC1_np as ground Truth\")\n",
    "print(f\"similar_rates_over90 = {similar_rates_over90}\")\n",
    "print(f\"similar_rates_over95 = {similar_rates_over95}\")\n",
    "print(f\"similar_rates_over99 = {similar_rates_over99}\")\n"
   ]
  }
 ],
 "metadata": {
  "kernelspec": {
   "display_name": "base",
   "language": "python",
   "name": "python3"
  },
  "language_info": {
   "codemirror_mode": {
    "name": "ipython",
    "version": 3
   },
   "file_extension": ".py",
   "mimetype": "text/x-python",
   "name": "python",
   "nbconvert_exporter": "python",
   "pygments_lexer": "ipython3",
   "version": "3.11.5"
  }
 },
 "nbformat": 4,
 "nbformat_minor": 2
}
