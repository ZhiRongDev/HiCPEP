{
 "cells": [
  {
   "cell_type": "markdown",
   "metadata": {},
   "source": [
    "This program is for calculated the similarity of POSSUMM approximated PC1 versus Juicer created PC1.\n",
    "\n",
    "Since the position of `NaN` entries at the POSSUMM approximated PC1 versus the Juicer created PC1 are slightly different, we fill all the `NaN` entries with 0 in advance for comparing the `similar_rate`."
   ]
  },
  {
   "cell_type": "code",
   "execution_count": 17,
   "metadata": {},
   "outputs": [
    {
     "name": "stdout",
     "output_type": "stream",
     "text": [
      "9728\n",
      "9728\n"
     ]
    }
   ],
   "source": [
    "import pandas as pd\n",
    "import numpy as np\n",
    "from numpy import dot\n",
    "from numpy.linalg import norm\n",
    "from hicpep import peptools\n",
    "from matplotlib import pyplot as plt\n",
    "\n",
    "def flip_tracks(track1_np: np.ndarray, track2_np: np.ndarray):\n",
    "    a = track1_np[~np.isnan(track1_np)]\n",
    "    b = track2_np[~np.isnan(track2_np)]\n",
    "    cos_sim = dot(a, b) / (norm(a) * norm(b))\n",
    "\n",
    "    if cos_sim < 0:\n",
    "        track2_np = -track2_np\n",
    "\n",
    "    return track1_np, track2_np\n",
    "\n",
    "# path1 = \"/home/jordan990301/Projects/HiCPEP/code_for_paper/benchmark/juicer/output/pc1_chr2_1000000.txt\"\n",
    "# path2 = \"/home/jordan990301/Projects/HiCPEP/code_for_paper/benchmark/EigenVector/R/possumm_pc1_1000000.txt\"\n",
    "\n",
    "# path1 = \"/home/jordan990301/Projects/HiCPEP/code_for_paper/benchmark/juicer/output/pc1_chr2_100000.txt\"\n",
    "# path2 = \"/home/jordan990301/Projects/HiCPEP/code_for_paper/benchmark/EigenVector/R/possumm_pc1_100000.txt\"\n",
    "\n",
    "path1 = \"/home/jordan990301/Projects/HiCPEP/code_for_paper/benchmark/juicer/output/pc1_chr2_25000.txt\"\n",
    "path2 = \"/home/jordan990301/Projects/HiCPEP/code_for_paper/benchmark/EigenVector/R/possumm_pc1_25000.txt\"\n",
    "\n",
    "pc1_df = pd.read_table(path1, header=None)\n",
    "pc1_df = pc1_df.fillna(0)\n",
    "pc1_np = pc1_df.values # Turn into numpy format\n",
    "pc1_np = pc1_np.flatten() # Turn into 1D vector\n",
    "\n",
    "possomm_df = pd.read_table(path2, header=None)\n",
    "possomm_df = possomm_df.fillna(0)\n",
    "possomm_np = possomm_df.values # Turn into numpy format\n",
    "possomm_np = possomm_np.flatten() # Turn into 1D vector\n",
    "\n",
    "pc1_np, possomm_np = flip_tracks(track1_np=pc1_np, track2_np=possomm_np)\n",
    "\n",
    "print(len(pc1_np))\n",
    "print(len(possomm_np))"
   ]
  },
  {
   "cell_type": "code",
   "execution_count": 18,
   "metadata": {},
   "outputs": [
    {
     "data": {
      "text/plain": [
       "{'total_entry_num': 9728,\n",
       " 'valid_entry_num': 9728,\n",
       " 'similar_num': 9314,\n",
       " 'similar_rate': 0.9574424342105263}"
      ]
     },
     "execution_count": 18,
     "metadata": {},
     "output_type": "execute_result"
    }
   ],
   "source": [
    "peptools.calc_similarity(track1_np=pc1_np, track2_np=possomm_np)"
   ]
  },
  {
   "cell_type": "code",
   "execution_count": 19,
   "metadata": {},
   "outputs": [],
   "source": [
    "# plt.figure().set_figwidth(15)\n",
    "# plt.bar(x=[i for i in range(len(pc1_np))], height=pc1_np)"
   ]
  },
  {
   "cell_type": "code",
   "execution_count": 20,
   "metadata": {},
   "outputs": [],
   "source": [
    "# plt.figure().set_figwidth(15)\n",
    "# plt.bar(x=[i for i in range(len(possomm_np))], height=possomm_np)"
   ]
  }
 ],
 "metadata": {
  "kernelspec": {
   "display_name": "base",
   "language": "python",
   "name": "python3"
  },
  "language_info": {
   "codemirror_mode": {
    "name": "ipython",
    "version": 3
   },
   "file_extension": ".py",
   "mimetype": "text/x-python",
   "name": "python",
   "nbconvert_exporter": "python",
   "pygments_lexer": "ipython3",
   "version": "3.11.5"
  }
 },
 "nbformat": 4,
 "nbformat_minor": 2
}
